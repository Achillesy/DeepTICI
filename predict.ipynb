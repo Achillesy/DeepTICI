{
  "cells": [
    {
      "cell_type": "markdown",
      "metadata": {
        "id": "view-in-github",
        "colab_type": "text"
      },
      "source": [
        "<a href=\"https://colab.research.google.com/github/Achillesy/DeepTICI/blob/main/predict.ipynb\" target=\"_parent\"><img src=\"https://colab.research.google.com/assets/colab-badge.svg\" alt=\"Open In Colab\"/></a>"
      ]
    },
    {
      "cell_type": "markdown",
      "source": [
        "# DeepTICI\n",
        "---\n",
        "This repository  is a fork of <https://github.com/IPMI-ICNS-UKE/DeepTICI>.\n",
        "Thanks to STROKE [publication](https://doi.org/10.1161/STROKEAHA.120.033807) for sharing the official code and model weights.\n",
        "\n",
        "The following code follows the license rights and limitations of the original shared code (CC BY-NC 4.0). You can view the full license text here:\n",
        "<https://raw.githubusercontent.com/IPMI-ICNS-UKE/DeepTICI/main/LICENSE.txt>\n",
        "\n",
        "\n",
        "**This code is provided for research and educational purposes only. Please do not use it for commercial purposes.**\n",
        "\n",
        "If you have any questions, please contact me at: xuchu_liu@rush.edu"
      ],
      "metadata": {
        "id": "A2nERgYezw1A"
      },
      "id": "A2nERgYezw1A"
    },
    {
      "cell_type": "markdown",
      "source": [
        "## Requirements"
      ],
      "metadata": {
        "id": "bY_KC1wK89Eg"
      },
      "id": "bY_KC1wK89Eg"
    },
    {
      "cell_type": "code",
      "source": [
        "!pip install efficientnet_pytorch"
      ],
      "metadata": {
        "id": "3euizQ2r9BUX",
        "outputId": "66e14c76-9bc0-4d34-f22b-1f94a3b7200b",
        "colab": {
          "base_uri": "https://localhost:8080/"
        }
      },
      "id": "3euizQ2r9BUX",
      "execution_count": 1,
      "outputs": [
        {
          "output_type": "stream",
          "name": "stdout",
          "text": [
            "Collecting efficientnet_pytorch\n",
            "  Downloading efficientnet_pytorch-0.7.1.tar.gz (21 kB)\n",
            "  Preparing metadata (setup.py) ... \u001b[?25l\u001b[?25hdone\n",
            "Requirement already satisfied: torch in /usr/local/lib/python3.10/dist-packages (from efficientnet_pytorch) (2.1.0+cu118)\n",
            "Requirement already satisfied: filelock in /usr/local/lib/python3.10/dist-packages (from torch->efficientnet_pytorch) (3.13.1)\n",
            "Requirement already satisfied: typing-extensions in /usr/local/lib/python3.10/dist-packages (from torch->efficientnet_pytorch) (4.5.0)\n",
            "Requirement already satisfied: sympy in /usr/local/lib/python3.10/dist-packages (from torch->efficientnet_pytorch) (1.12)\n",
            "Requirement already satisfied: networkx in /usr/local/lib/python3.10/dist-packages (from torch->efficientnet_pytorch) (3.2.1)\n",
            "Requirement already satisfied: jinja2 in /usr/local/lib/python3.10/dist-packages (from torch->efficientnet_pytorch) (3.1.2)\n",
            "Requirement already satisfied: fsspec in /usr/local/lib/python3.10/dist-packages (from torch->efficientnet_pytorch) (2023.6.0)\n",
            "Requirement already satisfied: triton==2.1.0 in /usr/local/lib/python3.10/dist-packages (from torch->efficientnet_pytorch) (2.1.0)\n",
            "Requirement already satisfied: MarkupSafe>=2.0 in /usr/local/lib/python3.10/dist-packages (from jinja2->torch->efficientnet_pytorch) (2.1.3)\n",
            "Requirement already satisfied: mpmath>=0.19 in /usr/local/lib/python3.10/dist-packages (from sympy->torch->efficientnet_pytorch) (1.3.0)\n",
            "Building wheels for collected packages: efficientnet_pytorch\n",
            "  Building wheel for efficientnet_pytorch (setup.py) ... \u001b[?25l\u001b[?25hdone\n",
            "  Created wheel for efficientnet_pytorch: filename=efficientnet_pytorch-0.7.1-py3-none-any.whl size=16428 sha256=6902f3dea8b3061f5da1927bc80524c767204a9c413b3b663aa75a29283c2bf4\n",
            "  Stored in directory: /root/.cache/pip/wheels/03/3f/e9/911b1bc46869644912bda90a56bcf7b960f20b5187feea3baf\n",
            "Successfully built efficientnet_pytorch\n",
            "Installing collected packages: efficientnet_pytorch\n",
            "Successfully installed efficientnet_pytorch-0.7.1\n"
          ]
        }
      ]
    },
    {
      "cell_type": "markdown",
      "source": [
        "## Installation"
      ],
      "metadata": {
        "id": "BPOj6eTT9VjY"
      },
      "id": "BPOj6eTT9VjY"
    },
    {
      "cell_type": "code",
      "source": [
        "!wget https://github.com/IPMI-ICNS-UKE/DeepTICI/raw/main/model_weights/experiment_I\n",
        "!wget https://github.com/IPMI-ICNS-UKE/DeepTICI/raw/main/model_weights/experiment_III_0\n",
        "!wget https://github.com/IPMI-ICNS-UKE/DeepTICI/raw/main/model_weights/experiment_III_1\n",
        "!wget https://github.com/IPMI-ICNS-UKE/DeepTICI/raw/main/model_weights/experiment_III_2"
      ],
      "metadata": {
        "id": "hijfpsYf9bcn",
        "outputId": "a504af02-b2df-4be0-b1d2-75bc2968ebbc",
        "colab": {
          "base_uri": "https://localhost:8080/"
        }
      },
      "id": "hijfpsYf9bcn",
      "execution_count": 3,
      "outputs": [
        {
          "output_type": "stream",
          "name": "stdout",
          "text": [
            "--2023-12-13 16:17:25--  https://github.com/IPMI-ICNS-UKE/DeepTICI/raw/main/model_weights/experiment_I\n",
            "Resolving github.com (github.com)... 140.82.112.4\n",
            "Connecting to github.com (github.com)|140.82.112.4|:443... connected.\n",
            "HTTP request sent, awaiting response... 302 Found\n",
            "Location: https://raw.githubusercontent.com/IPMI-ICNS-UKE/DeepTICI/main/model_weights/experiment_I [following]\n",
            "--2023-12-13 16:17:25--  https://raw.githubusercontent.com/IPMI-ICNS-UKE/DeepTICI/main/model_weights/experiment_I\n",
            "Resolving raw.githubusercontent.com (raw.githubusercontent.com)... 185.199.111.133, 185.199.110.133, 185.199.109.133, ...\n",
            "Connecting to raw.githubusercontent.com (raw.githubusercontent.com)|185.199.111.133|:443... connected.\n",
            "HTTP request sent, awaiting response... 200 OK\n",
            "Length: 59091797 (56M) [application/octet-stream]\n",
            "Saving to: ‘experiment_I.1’\n",
            "\n",
            "\rexperiment_I.1        0%[                    ]       0  --.-KB/s               \rexperiment_I.1      100%[===================>]  56.35M   286MB/s    in 0.2s    \n",
            "\n",
            "2023-12-13 16:17:26 (286 MB/s) - ‘experiment_I.1’ saved [59091797/59091797]\n",
            "\n",
            "--2023-12-13 16:17:26--  https://github.com/IPMI-ICNS-UKE/DeepTICI/raw/main/model_weights/experiment_III_0\n",
            "Resolving github.com (github.com)... 140.82.112.4\n",
            "Connecting to github.com (github.com)|140.82.112.4|:443... connected.\n",
            "HTTP request sent, awaiting response... 302 Found\n",
            "Location: https://raw.githubusercontent.com/IPMI-ICNS-UKE/DeepTICI/main/model_weights/experiment_III_0 [following]\n",
            "--2023-12-13 16:17:26--  https://raw.githubusercontent.com/IPMI-ICNS-UKE/DeepTICI/main/model_weights/experiment_III_0\n",
            "Resolving raw.githubusercontent.com (raw.githubusercontent.com)... 185.199.110.133, 185.199.109.133, 185.199.108.133, ...\n",
            "Connecting to raw.githubusercontent.com (raw.githubusercontent.com)|185.199.110.133|:443... connected.\n",
            "HTTP request sent, awaiting response... 200 OK\n",
            "Length: 59091925 (56M) [application/octet-stream]\n",
            "Saving to: ‘experiment_III_0’\n",
            "\n",
            "experiment_III_0    100%[===================>]  56.35M   306MB/s    in 0.2s    \n",
            "\n",
            "2023-12-13 16:17:27 (306 MB/s) - ‘experiment_III_0’ saved [59091925/59091925]\n",
            "\n",
            "--2023-12-13 16:17:27--  https://github.com/IPMI-ICNS-UKE/DeepTICI/raw/main/model_weights/experiment_III_1\n",
            "Resolving github.com (github.com)... 140.82.112.4\n",
            "Connecting to github.com (github.com)|140.82.112.4|:443... connected.\n",
            "HTTP request sent, awaiting response... 302 Found\n",
            "Location: https://raw.githubusercontent.com/IPMI-ICNS-UKE/DeepTICI/main/model_weights/experiment_III_1 [following]\n",
            "--2023-12-13 16:17:27--  https://raw.githubusercontent.com/IPMI-ICNS-UKE/DeepTICI/main/model_weights/experiment_III_1\n",
            "Resolving raw.githubusercontent.com (raw.githubusercontent.com)... 185.199.110.133, 185.199.109.133, 185.199.108.133, ...\n",
            "Connecting to raw.githubusercontent.com (raw.githubusercontent.com)|185.199.110.133|:443... connected.\n",
            "HTTP request sent, awaiting response... 200 OK\n",
            "Length: 59091925 (56M) [application/octet-stream]\n",
            "Saving to: ‘experiment_III_1’\n",
            "\n",
            "experiment_III_1    100%[===================>]  56.35M   230MB/s    in 0.2s    \n",
            "\n",
            "2023-12-13 16:17:28 (230 MB/s) - ‘experiment_III_1’ saved [59091925/59091925]\n",
            "\n",
            "--2023-12-13 16:17:28--  https://github.com/IPMI-ICNS-UKE/DeepTICI/raw/main/model_weights/experiment_III_2\n",
            "Resolving github.com (github.com)... 140.82.112.4\n",
            "Connecting to github.com (github.com)|140.82.112.4|:443... connected.\n",
            "HTTP request sent, awaiting response... 302 Found\n",
            "Location: https://raw.githubusercontent.com/IPMI-ICNS-UKE/DeepTICI/main/model_weights/experiment_III_2 [following]\n",
            "--2023-12-13 16:17:28--  https://raw.githubusercontent.com/IPMI-ICNS-UKE/DeepTICI/main/model_weights/experiment_III_2\n",
            "Resolving raw.githubusercontent.com (raw.githubusercontent.com)... 185.199.110.133, 185.199.109.133, 185.199.108.133, ...\n",
            "Connecting to raw.githubusercontent.com (raw.githubusercontent.com)|185.199.110.133|:443... connected.\n",
            "HTTP request sent, awaiting response... 200 OK\n",
            "Length: 59091925 (56M) [application/octet-stream]\n",
            "Saving to: ‘experiment_III_2’\n",
            "\n",
            "experiment_III_2    100%[===================>]  56.35M   368MB/s    in 0.2s    \n",
            "\n",
            "2023-12-13 16:17:29 (368 MB/s) - ‘experiment_III_2’ saved [59091925/59091925]\n",
            "\n"
          ]
        }
      ]
    },
    {
      "cell_type": "markdown",
      "source": [
        "## Load model and parameters"
      ],
      "metadata": {
        "id": "MsOkHPpD-Q_J"
      },
      "id": "MsOkHPpD-Q_J"
    },
    {
      "cell_type": "code",
      "source": [],
      "metadata": {
        "id": "gyMEqfCG9bw_"
      },
      "id": "gyMEqfCG9bw_",
      "execution_count": null,
      "outputs": []
    },
    {
      "cell_type": "markdown",
      "source": [
        "## Please upload your files"
      ],
      "metadata": {
        "id": "dqPv6Jms-Udn"
      },
      "id": "dqPv6Jms-Udn"
    },
    {
      "cell_type": "code",
      "source": [],
      "metadata": {
        "id": "XvB_-nYZ9b0f"
      },
      "id": "XvB_-nYZ9b0f",
      "execution_count": null,
      "outputs": []
    },
    {
      "cell_type": "code",
      "source": [],
      "metadata": {
        "id": "tAcQZxxP9b4I"
      },
      "id": "tAcQZxxP9b4I",
      "execution_count": null,
      "outputs": []
    },
    {
      "cell_type": "code",
      "execution_count": null,
      "id": "d02884ef-7e31-45ca-ae98-4a18d5b9379c",
      "metadata": {
        "id": "d02884ef-7e31-45ca-ae98-4a18d5b9379c"
      },
      "outputs": [],
      "source": [
        "import os\n",
        "import pydicom\n",
        "\n",
        "import matplotlib.pyplot as plt"
      ]
    },
    {
      "cell_type": "markdown",
      "source": [
        "## Clean up temporary files"
      ],
      "metadata": {
        "id": "L0MKNDE0-e2o"
      },
      "id": "L0MKNDE0-e2o"
    },
    {
      "cell_type": "code",
      "source": [],
      "metadata": {
        "id": "u4qP_G0r9as3"
      },
      "id": "u4qP_G0r9as3",
      "execution_count": null,
      "outputs": []
    }
  ],
  "metadata": {
    "kernelspec": {
      "display_name": "Python 3 (ipykernel)",
      "language": "python",
      "name": "python3"
    },
    "language_info": {
      "codemirror_mode": {
        "name": "ipython",
        "version": 3
      },
      "file_extension": ".py",
      "mimetype": "text/x-python",
      "name": "python",
      "nbconvert_exporter": "python",
      "pygments_lexer": "ipython3",
      "version": "3.9.17"
    },
    "colab": {
      "provenance": [],
      "include_colab_link": true
    }
  },
  "nbformat": 4,
  "nbformat_minor": 5
}